{
 "cells": [
  {
   "cell_type": "code",
   "execution_count": 1,
   "metadata": {},
   "outputs": [],
   "source": [
    "import numpy as np\n",
    "import first\n",
    "import random\n",
    "import typing"
   ]
  },
  {
   "cell_type": "code",
   "execution_count": 3,
   "metadata": {},
   "outputs": [
    {
     "data": {
      "text/plain": [
       "5.0"
      ]
     },
     "execution_count": 3,
     "metadata": {},
     "output_type": "execute_result"
    }
   ],
   "source": [
    "first.CyHexPosition(0, 0, 0).dist(first.CyHexPosition(-3, -2, 5))"
   ]
  },
  {
   "cell_type": "code",
   "execution_count": 7,
   "metadata": {},
   "outputs": [
    {
     "name": "stdout",
     "output_type": "stream",
     "text": [
      "1.07 s ± 10.4 ms per loop (mean ± std. dev. of 7 runs, 1 loop each)\n"
     ]
    }
   ],
   "source": [
    "def test_data(hmap, seed: int):\n",
    "    random.seed(seed)\n",
    "    all_positions = hmap.positions()\n",
    "    avoidset = set(random.sample(all_positions, len(all_positions) // 4))\n",
    "    start = random.choice(list(all_positions))\n",
    "    end = start\n",
    "    while end == start:\n",
    "        end = random.choice(list(all_positions))\n",
    "    return start, end, avoidset\n",
    "\n",
    "def run_test(map_size: int, num_runs: int):\n",
    "    hmap = first.HexMap(map_size)\n",
    "    path_lengths = list()\n",
    "    for i in range(num_runs):\n",
    "        start, end, avoidset = test_data(hmap, i)\n",
    "        path = start.shortest_path_dfs(end, avoidset, 2*map_size)\n",
    "        path_lengths.append(len(path))\n",
    "    return start, end, sum(pl for pl in path_lengths if pl is not None)\n",
    "\n",
    "%timeit run_test(100, 100)"
   ]
  }
 ],
 "metadata": {
  "kernelspec": {
   "display_name": "Python 3.8.5 ('base')",
   "language": "python",
   "name": "python3"
  },
  "language_info": {
   "codemirror_mode": {
    "name": "ipython",
    "version": 3
   },
   "file_extension": ".py",
   "mimetype": "text/x-python",
   "name": "python",
   "nbconvert_exporter": "python",
   "pygments_lexer": "ipython3",
   "version": "3.8.5"
  },
  "orig_nbformat": 4,
  "vscode": {
   "interpreter": {
    "hash": "6655beaf7f57a241ed2fe3a58b558d568db09842d57c904b8c0db510272f5c22"
   }
  }
 },
 "nbformat": 4,
 "nbformat_minor": 2
}
