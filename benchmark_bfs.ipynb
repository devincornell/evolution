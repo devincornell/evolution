{
 "cells": [
  {
   "cell_type": "code",
   "execution_count": 6,
   "metadata": {},
   "outputs": [],
   "source": [
    "import numpy as np\n",
    "import pandas as pd\n",
    "import mase\n",
    "import random\n",
    "import typing\n",
    "import plotnine\n",
    "import tqdm"
   ]
  },
  {
   "cell_type": "code",
   "execution_count": 15,
   "metadata": {},
   "outputs": [
    {
     "name": "stderr",
     "output_type": "stream",
     "text": [
      "100%|██████████| 25/25 [17:11<00:00, 41.26s/it] \n"
     ]
    }
   ],
   "source": [
    "def test_pathfind():\n",
    "    results = list()\n",
    "    for map_size in tqdm.tqdm(range(5, 30)):\n",
    "        for percent_avoid in [0.2, 0.3, 0.4, 0.5, 0.6, 0.7]:\n",
    "            diffs = list()\n",
    "            for i in range(500):\n",
    "                start, target, avoidset = mase.hexmapgenerator.random_target_map(map_size, percent_avoid=percent_avoid)\n",
    "                sp_len = start.shortest_path_length(target, avoidset)\n",
    "                if sp_len is not None:\n",
    "                    found_path = start.pathfind_dfs(target, avoidset)\n",
    "                    assert(len(found_path) >= sp_len)\n",
    "                    diff = len(found_path) - sp_len\n",
    "                    diffs.append(diff)\n",
    "            \n",
    "                results.append({\n",
    "                    'map_size': map_size, \n",
    "                    'percent_avoid': percent_avoid, \n",
    "                    'i': i,\n",
    "                    'diff': diff, \n",
    "                    #'median': np.median(diffs), \n",
    "                    #'mean': np.mean(diffs)\n",
    "                })\n",
    "                            \n",
    "    return pd.DataFrame(results)\n",
    "results = test_pathfind()"
   ]
  },
  {
   "cell_type": "code",
   "execution_count": null,
   "metadata": {},
   "outputs": [],
   "source": []
  },
  {
   "cell_type": "code",
   "execution_count": 49,
   "metadata": {},
   "outputs": [
    {
     "data": {
      "text/plain": [
       "(17500, 75000)"
      ]
     },
     "execution_count": 49,
     "metadata": {},
     "output_type": "execute_result"
    }
   ],
   "source": [
    "aggdf = results.groupby(['map_size', 'percent_avoid']).agg(\n",
    "    av_diff = pd.NamedAgg(column='diff', aggfunc=np.mean),\n",
    "    med_diff = pd.NamedAgg(column='diff', aggfunc=np.median),\n",
    ").reset_index()\n",
    "\n",
    "(plotnine.ggplot(aggdf) + \n",
    "    plotnine.aes(x='map_size', y='med_diff', group='percent_avoid') + \n",
    "    plotnine.geom_line(show_legend=True)\n",
    ")\n",
    "(results['diff'] > 5).sum(), results.shape[0]"
   ]
  },
  {
   "cell_type": "code",
   "execution_count": null,
   "metadata": {},
   "outputs": [],
   "source": [
    "(plotnine.ggplot() + \n",
    "    plotnine.aes(x='map_size', y='diff', group='percent_avoid') + \n",
    "    plotnine.geom_violin(show_legend=True)\n",
    ")"
   ]
  },
  {
   "cell_type": "code",
   "execution_count": 3,
   "metadata": {},
   "outputs": [
    {
     "data": {
      "text/plain": [
       "5.0"
      ]
     },
     "execution_count": 3,
     "metadata": {},
     "output_type": "execute_result"
    }
   ],
   "source": [
    "mase.CyHexPosition(0, 0, 0).dist(mase.CyHexPosition(-3, -2, 5))"
   ]
  },
  {
   "cell_type": "code",
   "execution_count": 7,
   "metadata": {},
   "outputs": [
    {
     "name": "stdout",
     "output_type": "stream",
     "text": [
      "1.07 s ± 10.4 ms per loop (mean ± std. dev. of 7 runs, 1 loop each)\n"
     ]
    }
   ],
   "source": [
    "def test_data(hmap, seed: int):\n",
    "    random.seed(seed)\n",
    "    all_positions = hmap.positions()\n",
    "    avoidset = set(random.sample(all_positions, len(all_positions) // 4))\n",
    "    start = random.choice(list(all_positions))\n",
    "    end = start\n",
    "    while end == start:\n",
    "        end = random.choice(list(all_positions))\n",
    "    return start, end, avoidset\n",
    "\n",
    "def run_test(map_size: int, num_runs: int):\n",
    "    hmap = first.HexMap(map_size)\n",
    "    path_lengths = list()\n",
    "    for i in range(num_runs):\n",
    "        start, end, avoidset = test_data(hmap, i)\n",
    "        path = start.shortest_path_dfs(end, avoidset, 2*map_size)\n",
    "        path_lengths.append(len(path))\n",
    "    return start, end, sum(pl for pl in path_lengths if pl is not None)\n",
    "\n",
    "%timeit run_test(100, 100)"
   ]
  }
 ],
 "metadata": {
  "kernelspec": {
   "display_name": "Python 3.8.5 ('base')",
   "language": "python",
   "name": "python3"
  },
  "language_info": {
   "codemirror_mode": {
    "name": "ipython",
    "version": 3
   },
   "file_extension": ".py",
   "mimetype": "text/x-python",
   "name": "python",
   "nbconvert_exporter": "python",
   "pygments_lexer": "ipython3",
   "version": "3.8.5"
  },
  "orig_nbformat": 4,
  "vscode": {
   "interpreter": {
    "hash": "6655beaf7f57a241ed2fe3a58b558d568db09842d57c904b8c0db510272f5c22"
   }
  }
 },
 "nbformat": 4,
 "nbformat_minor": 2
}
