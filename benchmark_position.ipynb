{
 "cells": [
  {
   "cell_type": "code",
   "execution_count": 3,
   "metadata": {},
   "outputs": [],
   "source": [
    "#from cyhexposition import CyHexPosition\n",
    "#from hexposition import HexPosition\n",
    "import first"
   ]
  },
  {
   "cell_type": "code",
   "execution_count": 7,
   "metadata": {},
   "outputs": [],
   "source": [
    "nums = list(range(50))\n",
    "import itertools\n",
    "coords = itertools.product(nums, nums, nums)\n",
    "\n",
    "%timeit [first.CyHexPosition(*c) for c in coords]\n",
    "%timeit [first.HexPosition(*c) for c in coords]"
   ]
  }
 ],
 "metadata": {
  "interpreter": {
   "hash": "6655beaf7f57a241ed2fe3a58b558d568db09842d57c904b8c0db510272f5c22"
  },
  "kernelspec": {
   "display_name": "Python 3.8.5 ('base')",
   "language": "python",
   "name": "python3"
  },
  "language_info": {
   "codemirror_mode": {
    "name": "ipython",
    "version": 3
   },
   "file_extension": ".py",
   "mimetype": "text/x-python",
   "name": "python",
   "nbconvert_exporter": "python",
   "pygments_lexer": "ipython3",
   "version": "3.8.5"
  },
  "orig_nbformat": 4
 },
 "nbformat": 4,
 "nbformat_minor": 2
}
