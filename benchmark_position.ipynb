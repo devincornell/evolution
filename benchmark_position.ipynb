{
 "cells": [
  {
   "cell_type": "code",
   "execution_count": 1,
   "metadata": {},
   "outputs": [],
   "source": [
    "#from cyhexposition import CyHexPosition\n",
    "#from hexposition import HexPosition\n",
    "import first"
   ]
  },
  {
   "cell_type": "code",
   "execution_count": 3,
   "metadata": {},
   "outputs": [
    {
     "name": "stdout",
     "output_type": "stream",
     "text": [
      "12.1 s ± 32.1 ms per loop (mean ± std. dev. of 7 runs, 1 loop each)\n",
      "25 s ± 54.7 ms per loop (mean ± std. dev. of 7 runs, 1 loop each)\n"
     ]
    }
   ],
   "source": [
    "def test1(coords):\n",
    "    return [first.CyHexPosition(*c).get_offsets(10) for c in coords]\n",
    "\n",
    "def test2(coords):\n",
    "    return [first.HexPosition(*c).get_offsets(10) for c in coords]\n",
    "\n",
    "\n",
    "import itertools\n",
    "nums = list(range(50))\n",
    "coords = list(itertools.product(nums, nums, nums))\n",
    "#print(len)\n",
    "\n",
    "%timeit test1(coords)[0]\n",
    "%timeit test2(coords)[0]"
   ]
  }
 ],
 "metadata": {
  "interpreter": {
   "hash": "6655beaf7f57a241ed2fe3a58b558d568db09842d57c904b8c0db510272f5c22"
  },
  "kernelspec": {
   "display_name": "Python 3.8.5 ('base')",
   "language": "python",
   "name": "python3"
  },
  "language_info": {
   "codemirror_mode": {
    "name": "ipython",
    "version": 3
   },
   "file_extension": ".py",
   "mimetype": "text/x-python",
   "name": "python",
   "nbconvert_exporter": "python",
   "pygments_lexer": "ipython3",
   "version": "3.8.5"
  },
  "orig_nbformat": 4
 },
 "nbformat": 4,
 "nbformat_minor": 2
}
